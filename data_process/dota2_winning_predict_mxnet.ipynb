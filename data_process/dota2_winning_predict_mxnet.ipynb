{
 "cells": [
  {
   "cell_type": "code",
   "execution_count": 40,
   "metadata": {},
   "outputs": [],
   "source": [
    "import numpy as np\n",
    "\n",
    "class sklearn_dataset:\n",
    "    def __init__(self, data_array, target_array):\n",
    "        self.data = np.array(data_array)\n",
    "        self.target = np.array(target_array)\n",
    "\n",
    "def load_original_data(file_name='origin.txt'):\n",
    "    matches = []\n",
    "    with open(file_name, 'r') as f:\n",
    "        for line in f.readlines():\n",
    "            json_str = line.strip()\n",
    "            matches.append(json.loads(json_str))\n",
    "    return matches\n",
    "\n",
    "def load_10m_original_data():\n",
    "    matches = []\n",
    "    for i in range(1, 21):\n",
    "        print('loading ' + str(i))\n",
    "        with open(str(i)+'_origin.txt', 'r') as f:\n",
    "            for line in f.readlines():\n",
    "                json_str = line.strip()\n",
    "                matches.append(json.loads(json_str))\n",
    "    return matches\n",
    "\n",
    "import json\n",
    "from sklearn import metrics\n",
    "from sklearn.model_selection import train_test_split\n",
    "#matches = load_original_data(file_name='origin.txt')\n",
    "#matches = load_10m_original_data()"
   ]
  },
  {
   "cell_type": "code",
   "execution_count": 44,
   "metadata": {},
   "outputs": [],
   "source": [
    "import numpy as np\n",
    "import mxnet as mx\n",
    "import logging\n",
    "\n",
    "total_hero_count = 114\n",
    "\n",
    "def to4d(img):\n",
    "    print(img.shape)\n",
    "    return img.reshape(img.shape[0], 1, 1, total_hero_count)\n",
    "\n",
    "# Create a place holder variable for the input data\n",
    "data = mx.symbol.Variable('data')\n",
    "fc1 = mx.symbol.FullyConnected(data=data, num_hidden=total_hero_count)\n",
    "act1 = mx.symbol.Activation(data=fc1, act_type=\"relu\")\n",
    "fc2 = mx.symbol.FullyConnected(data=act1, num_hidden=total_hero_count)\n",
    "act2 = mx.symbol.Activation(data=fc2, act_type=\"relu\")\n",
    "fc3 = mx.symbol.FullyConnected(data=data, num_hidden=total_hero_count)\n",
    "act3 = mx.symbol.Activation(data=fc2, act_type=\"relu\")\n",
    "fc4 = mx.symbol.FullyConnected(data=act3, num_hidden=total_hero_count)\n",
    "act4 = mx.symbol.Activation(data=fc3, act_type=\"relu\")\n",
    "fcn = mx.symbol.FullyConnected(data=act4, num_hidden=2)\n",
    "mlp = mx.symbol.SoftmaxOutput(data=fcn, name='softmax')\n",
    "model = mx.mod.Module(symbol=mlp)"
   ]
  },
  {
   "cell_type": "code",
   "execution_count": 51,
   "metadata": {},
   "outputs": [
    {
     "name": "stdout",
     "output_type": "stream",
     "text": [
      "training 8\n",
      "training 9\n",
      "training 10\n",
      "training 11\n",
      "training 12\n",
      "training 13\n",
      "training 14\n",
      "training 15\n",
      "training 16\n",
      "training 17\n",
      "training 18\n",
      "training 19\n",
      "training 20\n",
      "(6499848, 114)\n"
     ]
    },
    {
     "name": "stderr",
     "output_type": "stream",
     "text": [
      "INFO:root:Epoch[0] Train-accuracy=0.591381\n",
      "INFO:root:Epoch[0] Time cost=35.623\n",
      "INFO:root:Saved checkpoint to \"mx_mlp-0001.params\"\n",
      "INFO:root:Epoch[1] Train-accuracy=0.595353\n",
      "INFO:root:Epoch[1] Time cost=35.482\n",
      "INFO:root:Saved checkpoint to \"mx_mlp-0002.params\"\n",
      "INFO:root:Epoch[2] Train-accuracy=0.598305\n",
      "INFO:root:Epoch[2] Time cost=35.290\n",
      "INFO:root:Saved checkpoint to \"mx_mlp-0003.params\"\n",
      "INFO:root:Epoch[3] Train-accuracy=0.600206\n",
      "INFO:root:Epoch[3] Time cost=35.428\n",
      "INFO:root:Saved checkpoint to \"mx_mlp-0004.params\"\n",
      "INFO:root:Epoch[4] Train-accuracy=0.601447\n",
      "INFO:root:Epoch[4] Time cost=35.314\n",
      "INFO:root:Saved checkpoint to \"mx_mlp-0005.params\"\n",
      "INFO:root:Epoch[5] Train-accuracy=0.602368\n",
      "INFO:root:Epoch[5] Time cost=36.338\n",
      "INFO:root:Saved checkpoint to \"mx_mlp-0006.params\"\n",
      "INFO:root:Epoch[6] Train-accuracy=0.602953\n",
      "INFO:root:Epoch[6] Time cost=35.372\n",
      "INFO:root:Saved checkpoint to \"mx_mlp-0007.params\"\n",
      "INFO:root:Epoch[7] Train-accuracy=0.603544\n",
      "INFO:root:Epoch[7] Time cost=35.282\n",
      "INFO:root:Saved checkpoint to \"mx_mlp-0008.params\"\n",
      "INFO:root:Epoch[8] Train-accuracy=0.603956\n",
      "INFO:root:Epoch[8] Time cost=35.620\n",
      "INFO:root:Saved checkpoint to \"mx_mlp-0009.params\"\n",
      "INFO:root:Epoch[9] Train-accuracy=0.604317\n",
      "INFO:root:Epoch[9] Time cost=35.260\n",
      "INFO:root:Saved checkpoint to \"mx_mlp-0010.params\"\n"
     ]
    }
   ],
   "source": [
    "import json\n",
    "from sklearn import metrics\n",
    "from sklearn.model_selection import train_test_split\n",
    "\n",
    "batch_size = 100\n",
    "\n",
    "def process_data(matches, duration_min=0, duration_max=7200, mmr_min=0, mmr_max=10000):\n",
    "    teams_win = []\n",
    "    matches_heroes = []\n",
    "    for match in matches:\n",
    "        duration = match['duration']\n",
    "        mmr = match['avg_mmr']\n",
    "        if isinstance(duration, int) is False or isinstance(mmr, int) is False:\n",
    "            continue\n",
    "        if duration < duration_min or duration > duration_max:\n",
    "            continue\n",
    "        if mmr > mmr_max or mmr < mmr_min:\n",
    "            continue\n",
    "        #if match['lobby_type'] is not 7:\n",
    "        #    continue\n",
    "        match_heroes = [0 for i in range(total_hero_count)]\n",
    "        radiant_team = match['radiant_team'].split(',')\n",
    "        dire_team = match['dire_team'].split(',')\n",
    "        if match['radiant_win']:\n",
    "            team_win = 1\n",
    "        else:\n",
    "            team_win = 0\n",
    "        if len(radiant_team) is not 5 or len(dire_team) is not 5:\n",
    "            continue\n",
    "        for hero_id in radiant_team:\n",
    "            match_heroes[int(hero_id)-1] = 1\n",
    "        for hero_id in dire_team:\n",
    "            match_heroes[int(hero_id)-1] = -1\n",
    "        teams_win.append(team_win)\n",
    "        matches_heroes.append(match_heroes)\n",
    "    return sklearn_dataset(matches_heroes, teams_win)\n",
    "\n",
    "checkpoint = mx.callback.do_checkpoint('mx_mlp')\n",
    "logging.getLogger().setLevel(logging.DEBUG)\n",
    "\n",
    "matches_all = None\n",
    "\n",
    "for i in range(8,21):\n",
    "    print('training ' + str(i))\n",
    "    matches = load_original_data(file_name=str(i)+'_origin.txt')\n",
    "    #matches_train, matches_test = train_test_split(matches, test_size=0.2)\n",
    "    #matches_data_train = process_data(matches_train)\n",
    "    #matches_data_test = process_data(matches_test)\n",
    "    matches = process_data(matches)\n",
    "    if matches_all is None:\n",
    "        matches_all = matches\n",
    "    else:\n",
    "        matches_all.data = np.concatenate((matches_all.data, matches.data), axis=0)\n",
    "        matches_all.target = np.concatenate((matches_all.target, matches.target), axis=0)\n",
    "    \n",
    "train_iter = mx.io.NDArrayIter(to4d(matches_all.data), matches_all.target, batch_size, shuffle=True)\n",
    "#val_iter = mx.io.NDArrayIter(to4d(matches_all.data), matches_all.target, batch_size)\n",
    "\n",
    "model.fit(\n",
    "    train_iter,       # training data\n",
    "    #eval_data=val_iter,\n",
    "    optimizer='sgd',\n",
    "    optimizer_params={'learning_rate':0.1},\n",
    "    eval_metric='acc',\n",
    "    num_epoch=10,\n",
    "    epoch_end_callback=checkpoint\n",
    ")"
   ]
  },
  {
   "cell_type": "code",
   "execution_count": 52,
   "metadata": {},
   "outputs": [
    {
     "name": "stdout",
     "output_type": "stream",
     "text": [
      "(499987, 114)\n"
     ]
    }
   ],
   "source": [
    "matches = load_original_data(file_name='20_origin.txt')\n",
    "matches = process_data(matches)\n",
    "\n",
    "val_iter = mx.io.NDArrayIter(to4d(matches.data), matches.target, batch_size)\n"
   ]
  },
  {
   "cell_type": "code",
   "execution_count": 62,
   "metadata": {},
   "outputs": [
    {
     "name": "stdout",
     "output_type": "stream",
     "text": [
      "[('accuracy', 0.606528)]\n"
     ]
    }
   ],
   "source": [
    "score = model.score(val_iter, ['acc'])\n",
    "print(score)"
   ]
  }
 ],
 "metadata": {
  "kernelspec": {
   "display_name": "Python 3",
   "language": "python",
   "name": "python3"
  },
  "language_info": {
   "codemirror_mode": {
    "name": "ipython",
    "version": 3
   },
   "file_extension": ".py",
   "mimetype": "text/x-python",
   "name": "python",
   "nbconvert_exporter": "python",
   "pygments_lexer": "ipython3",
   "version": "3.6.1"
  }
 },
 "nbformat": 4,
 "nbformat_minor": 2
}
